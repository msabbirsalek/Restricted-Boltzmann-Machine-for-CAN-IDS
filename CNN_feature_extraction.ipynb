{
 "cells": [
  {
   "cell_type": "code",
   "execution_count": null,
   "id": "c80ddf50",
   "metadata": {},
   "outputs": [],
   "source": [
    "import tensorflow as tf\n",
    "\n",
    "import cirq\n",
    "import sympy\n",
    "import numpy as np\n",
    "import seaborn as sns\n",
    "import collections\n",
    "import random as random\n",
    "\n",
    "import pandas as pd\n",
    "from sklearn.preprocessing import MinMaxScaler,StandardScaler\n",
    "\n",
    "from tensorflow.keras.models import Model\n",
    "from sklearn.preprocessing import minmax_scale\n",
    "\n",
    "# visualization tools\n",
    "%matplotlib inline\n",
    "import matplotlib.pyplot as plt"
   ]
  },
  {
   "cell_type": "markdown",
   "id": "01dbfb98",
   "metadata": {},
   "source": [
    "# Data Pre-processing"
   ]
  },
  {
   "cell_type": "code",
   "execution_count": null,
   "id": "e931b5dd",
   "metadata": {
    "scrolled": true
   },
   "outputs": [],
   "source": [
    "df = pd.read_excel('Data.xlsx')\n",
    "\n",
    "df_noAtk_all = df[df['Attack']==0]\n",
    "df_Atk = df[df['Attack']==1]\n",
    "\n",
    "df_noAtk_all = df_noAtk_all.reset_index(drop=True)\n",
    "df_Atk = df_Atk.reset_index(drop=True)\n",
    "\n",
    "col_names = list(df_noAtk_all.columns)\n",
    "\n",
    "row_noAtk_all = df_noAtk_all.count()[0]\n",
    "row_Atk = df_Atk.count()[0]\n",
    "\n",
    "row_smaller = min(row_noAtk_all,row_Atk)\n",
    "num_CAN_img = int(row_smaller/(len(col_names)-2))\n",
    "\n",
    "df_noAtk = df_noAtk_all[:][-row_Atk:].reset_index(drop=True)\n",
    "\n",
    "init_image_size = len(col_names) - 2\n",
    "train_noAtk_size = int(row_Atk*0.8)"
   ]
  },
  {
   "cell_type": "code",
   "execution_count": null,
   "id": "c7c3b4fc",
   "metadata": {},
   "outputs": [],
   "source": [
    "train_noAtk = df_noAtk[:][0:train_noAtk_size]\n",
    "test_noAtk = df_noAtk[:][train_noAtk_size:]\n",
    "\n",
    "train_Atk = df_Atk[:][0:train_noAtk_size]\n",
    "test_Atk = df_noAtk[:][train_noAtk_size:]\n",
    "\n",
    "train_noAtk = train_noAtk.reset_index(drop=True)\n",
    "test_noAtk = test_noAtk.reset_index(drop=True)\n",
    "train_Atk = train_Atk.reset_index(drop=True)\n",
    "test_Atk = test_Atk.reset_index(drop=True)\n",
    "\n",
    "train_df = pd.concat([train_noAtk,train_Atk], ignore_index=True).reset_index(drop=True)\n",
    "test_df = pd.concat([test_noAtk,test_Atk], ignore_index=True).reset_index(drop=True)"
   ]
  },
  {
   "cell_type": "code",
   "execution_count": null,
   "id": "a8431a00",
   "metadata": {},
   "outputs": [],
   "source": [
    "col_names = list(df_noAtk_all.columns)\n",
    "col_names.remove('Attack')\n",
    "col_names.remove('Timestamp')"
   ]
  },
  {
   "cell_type": "code",
   "execution_count": null,
   "id": "263fef93",
   "metadata": {},
   "outputs": [],
   "source": [
    "df_x = train_df.drop(columns = ['Attack','Timestamp'])\n",
    "df_y = train_df.drop(columns = col_names)\n",
    "\n",
    "df_x_test = test_df.drop(columns = ['Attack','Timestamp'])\n",
    "df_y_test = train_df.drop(columns = col_names)\n",
    "\n",
    "min_max_scaler = MinMaxScaler()\n",
    "scaler = StandardScaler()\n",
    "df_x = pd.DataFrame(scaler.fit_transform(df_x), columns=df_x.columns)\n",
    "df_x = pd.DataFrame(min_max_scaler.fit_transform(df_x), columns=df_x.columns)\n",
    "\n",
    "df_x_test = pd.DataFrame(scaler.fit_transform(df_x_test), columns=df_x.columns)\n",
    "df_x_test = pd.DataFrame(min_max_scaler.fit_transform(df_x_test), columns=df_x.columns)"
   ]
  },
  {
   "cell_type": "markdown",
   "id": "e77cc7a9",
   "metadata": {},
   "source": [
    "Build CAN image dataset"
   ]
  },
  {
   "cell_type": "code",
   "execution_count": null,
   "id": "86f6ffa7",
   "metadata": {},
   "outputs": [],
   "source": [
    "x = []\n",
    "y = []\n",
    "\n",
    "np_x = df_x.to_numpy()\n",
    "np_y = df_y.to_numpy()\n",
    "\n",
    "for i in range(len(np_x)-init_image_size):\n",
    "    if(i%init_image_size==0):\n",
    "        img = np_x[i:i+init_image_size,:].reshape(init_image_size,init_image_size,1)\n",
    "        label = 1 if 1 in np_y[i:i+13,:] else 0\n",
    "        x.append(img)\n",
    "        y.append(label)\n",
    "\n",
    "x_train = np.array(x)\n",
    "y_train = np.array(y)"
   ]
  },
  {
   "cell_type": "code",
   "execution_count": null,
   "id": "48b91762",
   "metadata": {},
   "outputs": [],
   "source": [
    "x = np.array(x_train)\n",
    "y = np.array(y_train)\n",
    "\n",
    "from sklearn.model_selection import train_test_split\n",
    "x_train, x_test, y_train, y_test = train_test_split(x, y, test_size=0.3, random_state=42)"
   ]
  },
  {
   "cell_type": "markdown",
   "id": "aa051a8e",
   "metadata": {},
   "source": [
    "# Train a convolution neural network (CNN)"
   ]
  },
  {
   "cell_type": "code",
   "execution_count": null,
   "id": "85afbc71",
   "metadata": {},
   "outputs": [],
   "source": [
    "def create_full_classical_model(init_image_size):\n",
    "    # A simple model based off LeNet \n",
    "    model = tf.keras.Sequential()\n",
    "    model.add(tf.keras.layers.Flatten(input_shape=(init_image_size,init_image_size,1)))\n",
    "    model.add(tf.keras.layers.Dense(100, activation='relu'))\n",
    "    model.add(tf.keras.layers.Dense(64))\n",
    "    model.add(tf.keras.layers.Dense(16))\n",
    "    model.add(tf.keras.layers.Dense(1))\n",
    "    return model\n",
    "\n",
    "\n",
    "model = create_full_classical_model(init_image_size)\n",
    "model.compile(loss=tf.keras.losses.BinaryCrossentropy(from_logits=True),\n",
    "              optimizer=tf.keras.optimizers.Adam(),\n",
    "              metrics=['accuracy'])\n",
    "\n",
    "model.summary()\n",
    "\n",
    "EPOCHS = 100\n",
    "BATCH_SIZE = 8\n",
    "\n",
    "fair_history = model.fit(x_train,\n",
    "          y_train,\n",
    "          batch_size=BATCH_SIZE,\n",
    "          epochs=EPOCHS,\n",
    "          verbose=1,\n",
    "          validation_data=(x_test, y_test))\n",
    "\n",
    "fair_nn_results = model.evaluate(x_test, y_test)"
   ]
  },
  {
   "cell_type": "code",
   "execution_count": null,
   "id": "6bad4193",
   "metadata": {},
   "outputs": [],
   "source": [
    "plt.plot(fair_history.history['accuracy'])\n",
    "plt.plot(fair_history.history['val_accuracy'])\n",
    "plt.title('model accuracy')\n",
    "plt.ylabel('accuracy')\n",
    "plt.xlabel('epoch')\n",
    "plt.legend(['train', 'test'], loc='lower right')\n",
    "plt.show()\n",
    "# summarize history for loss\n",
    "plt.plot(fair_history.history['loss'])\n",
    "plt.plot(fair_history.history['val_loss'])\n",
    "plt.title('model loss')\n",
    "plt.ylabel('loss')\n",
    "plt.xlabel('epoch')\n",
    "plt.legend(['train', 'test'], loc='upper right')\n",
    "plt.show()"
   ]
  },
  {
   "cell_type": "code",
   "execution_count": null,
   "id": "0cbf8cbc",
   "metadata": {},
   "outputs": [],
   "source": [
    "def extract_feat(model, x_in):\n",
    "    layer_name = model.layers[-3].name\n",
    "    intermediate_layer_model = Model(inputs=model.input,\n",
    "                                 outputs=model.get_layer(layer_name).output)\n",
    "    intermediate_output = intermediate_layer_model.predict(x_test[0][None, :, :, :])\n",
    "    foo_norm = minmax_scale(intermediate_output, feature_range=(0,1), axis=1)\n",
    "    return foo_norm"
   ]
  },
  {
   "cell_type": "code",
   "execution_count": null,
   "id": "49fcada1",
   "metadata": {},
   "outputs": [],
   "source": [
    "x_trans = []\n",
    "y_trans = []\n",
    "total = len(x_train)\n",
    "for i in range(len(x_train)):\n",
    "    x_trans.append(extract_feat(model,x_train[i]))\n",
    "    y_trans.append(y_train[i])\n",
    "\n",
    "print ('Done')"
   ]
  },
  {
   "cell_type": "code",
   "execution_count": null,
   "id": "77bbab9f",
   "metadata": {},
   "outputs": [],
   "source": [
    "x_trans_test = []\n",
    "y_trans_test = []\n",
    "\n",
    "for i in range(len(x_test)):\n",
    "    x_trans_test.append(extract_feat(model,x_test[i]))\n",
    "    y_trans_test.append(y_test[i])\n",
    "\n",
    "print ('Done')"
   ]
  },
  {
   "cell_type": "code",
   "execution_count": null,
   "id": "bd8ddd4a",
   "metadata": {},
   "outputs": [],
   "source": [
    "x_trans = np.array(x_trans)\n",
    "x_trans_test = np.array(x_trans_test)"
   ]
  },
  {
   "cell_type": "code",
   "execution_count": null,
   "id": "f85a325e",
   "metadata": {},
   "outputs": [],
   "source": [
    "x_trans = x_trans.reshape(len(x_trans),8,8)\n",
    "x_trans_test = x_trans_test.reshape(len(x_trans_test),8,8)"
   ]
  },
  {
   "cell_type": "markdown",
   "id": "57d6cacb",
   "metadata": {},
   "source": [
    "# Perform Encoding"
   ]
  },
  {
   "cell_type": "code",
   "execution_count": null,
   "id": "0f4a5064",
   "metadata": {},
   "outputs": [],
   "source": [
    "THRESHOLD = 0.5\n",
    "\n",
    "x_train_bin = np.array(x_trans > THRESHOLD, dtype=np.float32)\n",
    "x_test_bin = np.array(x_trans_test > THRESHOLD, dtype=np.float32)\n",
    "\n",
    "print (x_train_bin.shape)\n",
    "print (x_test_bin.shape)"
   ]
  },
  {
   "cell_type": "code",
   "execution_count": null,
   "id": "f2b845c9",
   "metadata": {},
   "outputs": [],
   "source": [
    "import random as random\n",
    "\n",
    "idx = random.randint(0,len(x_train_bin))\n",
    "print('index:', idx , ' label : ', y_train[idx])\n",
    "\n",
    "plt.imshow(x_train_bin[idx,:,:])\n",
    "plt.colorbar()"
   ]
  },
  {
   "cell_type": "markdown",
   "id": "b12ba4d8",
   "metadata": {},
   "source": [
    "# Save Train Data"
   ]
  },
  {
   "cell_type": "code",
   "execution_count": null,
   "id": "d78e1ccd",
   "metadata": {},
   "outputs": [],
   "source": [
    "count = 0\n",
    "x_train_bin_squeezed = np.squeeze(x_train_bin)\n",
    "\n",
    "for y in y_train:    \n",
    "    y_train_bin = np.expand_dims(y*np.ones([8,2]), axis=0)\n",
    "    x_train_y_train = np.concatenate((x_train_bin_squeezed[count].T, np.squeeze(y_train_bin).T), axis=0).T\n",
    "    \n",
    "    if count == 0:\n",
    "        Train_all = x_train_y_train\n",
    "    else:\n",
    "        Train_all = np.concatenate((Train_all, x_train_y_train), axis=0)\n",
    "    \n",
    "    count += 1"
   ]
  },
  {
   "cell_type": "code",
   "execution_count": null,
   "id": "0396324a",
   "metadata": {},
   "outputs": [],
   "source": [
    "comb_final = pd.DataFrame(Train_all)"
   ]
  },
  {
   "cell_type": "code",
   "execution_count": null,
   "id": "cd022799",
   "metadata": {},
   "outputs": [],
   "source": [
    "with pd.ExcelWriter('Train.xlsx') as writer:\n",
    "    comb_final.to_excel(writer) "
   ]
  },
  {
   "cell_type": "markdown",
   "id": "4d87c56e",
   "metadata": {},
   "source": [
    "# Save Test Data"
   ]
  },
  {
   "cell_type": "code",
   "execution_count": null,
   "id": "d3b71ab0",
   "metadata": {},
   "outputs": [],
   "source": [
    "count = 0\n",
    "x_test_bin_squeezed = np.squeeze(x_test_bin)\n",
    "\n",
    "for y in y_test:\n",
    "    if y == 0:\n",
    "        y = 1\n",
    "    else:\n",
    "        y=0\n",
    "        \n",
    "    y_test_bin = np.expand_dims(y*np.ones([8,2]), axis=0)\n",
    "    x_test_y_test = np.concatenate((x_test_bin_squeezed[count].T, np.squeeze(y_test_bin).T), axis=0).T\n",
    "    \n",
    "    if count == 0:\n",
    "        Test_all = x_test_y_test\n",
    "    else:\n",
    "        Test_all = np.concatenate((Test_all, x_test_y_test), axis=0)\n",
    "    \n",
    "    count += 1"
   ]
  },
  {
   "cell_type": "code",
   "execution_count": null,
   "id": "ef6dcc07",
   "metadata": {},
   "outputs": [],
   "source": [
    "test_final = pd.DataFrame(Test_all)"
   ]
  },
  {
   "cell_type": "code",
   "execution_count": null,
   "id": "db4b14de",
   "metadata": {},
   "outputs": [],
   "source": [
    "with pd.ExcelWriter('Test.xlsx') as writer:\n",
    "    test_final.to_excel(writer) "
   ]
  }
 ],
 "metadata": {
  "kernelspec": {
   "display_name": "Python 3 (ipykernel)",
   "language": "python",
   "name": "python3"
  },
  "language_info": {
   "codemirror_mode": {
    "name": "ipython",
    "version": 3
   },
   "file_extension": ".py",
   "mimetype": "text/x-python",
   "name": "python",
   "nbconvert_exporter": "python",
   "pygments_lexer": "ipython3",
   "version": "3.9.12"
  }
 },
 "nbformat": 4,
 "nbformat_minor": 5
}
